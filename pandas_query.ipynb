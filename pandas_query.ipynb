{
 "cells": [
  {
   "cell_type": "markdown",
   "metadata": {},
   "source": [
    "## df.query\n",
    "https://blog.csdn.net/AlanGuoo/article/details/88874742\n",
    "\n",
    "df.query(expr, inplace=False, **kwargs)\n",
    "参数：\n",
    "- expr: str要评估的查询字符串。 可以引用变量，在前面加@字符\n",
    "- inplace-False: 是否修改数据或返回副本\n",
    "- kwargs: dict关键字参数"
   ]
  },
  {
   "cell_type": "code",
   "execution_count": 8,
   "metadata": {},
   "outputs": [],
   "source": [
    "import pandas as pd\n",
    "import numpy as np\n",
    "import numexpr"
   ]
  },
  {
   "cell_type": "code",
   "execution_count": 26,
   "metadata": {},
   "outputs": [
    {
     "data": {
      "text/html": [
       "<div>\n",
       "<style scoped>\n",
       "    .dataframe tbody tr th:only-of-type {\n",
       "        vertical-align: middle;\n",
       "    }\n",
       "\n",
       "    .dataframe tbody tr th {\n",
       "        vertical-align: top;\n",
       "    }\n",
       "\n",
       "    .dataframe thead th {\n",
       "        text-align: right;\n",
       "    }\n",
       "</style>\n",
       "<table border=\"1\" class=\"dataframe\">\n",
       "  <thead>\n",
       "    <tr style=\"text-align: right;\">\n",
       "      <th></th>\n",
       "      <th>A</th>\n",
       "      <th>B</th>\n",
       "      <th>C</th>\n",
       "      <th>D</th>\n",
       "    </tr>\n",
       "  </thead>\n",
       "  <tbody>\n",
       "    <tr>\n",
       "      <th>0</th>\n",
       "      <td>0</td>\n",
       "      <td>1</td>\n",
       "      <td>2</td>\n",
       "      <td>3</td>\n",
       "    </tr>\n",
       "    <tr>\n",
       "      <th>1</th>\n",
       "      <td>4</td>\n",
       "      <td>5</td>\n",
       "      <td>6</td>\n",
       "      <td>7</td>\n",
       "    </tr>\n",
       "    <tr>\n",
       "      <th>2</th>\n",
       "      <td>8</td>\n",
       "      <td>9</td>\n",
       "      <td>10</td>\n",
       "      <td>11</td>\n",
       "    </tr>\n",
       "  </tbody>\n",
       "</table>\n",
       "</div>"
      ],
      "text/plain": [
       "   A  B   C   D\n",
       "0  0  1   2   3\n",
       "1  4  5   6   7\n",
       "2  8  9  10  11"
      ]
     },
     "execution_count": 26,
     "metadata": {},
     "output_type": "execute_result"
    }
   ],
   "source": [
    "df=pd.DataFrame(np.arange(12).reshape(3,4), columns=list('ABCD'))\n",
    "df"
   ]
  },
  {
   "cell_type": "code",
   "execution_count": 19,
   "metadata": {},
   "outputs": [],
   "source": [
    "## r1 == r2 == r3 == r4 == r5\n",
    "## 不同点：eval表达式为逻辑，结果返回bool数组，\n",
    "r1=df[(df.A<8)&(df.B<9)]\n",
    "r2=pd.eval('df[(df.A<8)&(df.B<9)]')\n",
    "r3=df[df.eval('A<8 & B<9')]\n",
    "a=df.A\n",
    "b=df.B\n",
    "r5=df[numexpr.evaluate('(a<8) & (b<9)')]\n"
   ]
  },
  {
   "cell_type": "code",
   "execution_count": 21,
   "metadata": {},
   "outputs": [
    {
     "data": {
      "text/html": [
       "<div>\n",
       "<style scoped>\n",
       "    .dataframe tbody tr th:only-of-type {\n",
       "        vertical-align: middle;\n",
       "    }\n",
       "\n",
       "    .dataframe tbody tr th {\n",
       "        vertical-align: top;\n",
       "    }\n",
       "\n",
       "    .dataframe thead th {\n",
       "        text-align: right;\n",
       "    }\n",
       "</style>\n",
       "<table border=\"1\" class=\"dataframe\">\n",
       "  <thead>\n",
       "    <tr style=\"text-align: right;\">\n",
       "      <th></th>\n",
       "      <th>A</th>\n",
       "      <th>B</th>\n",
       "      <th>C</th>\n",
       "      <th>D</th>\n",
       "    </tr>\n",
       "  </thead>\n",
       "  <tbody>\n",
       "    <tr>\n",
       "      <th>0</th>\n",
       "      <td>0</td>\n",
       "      <td>1</td>\n",
       "      <td>2</td>\n",
       "      <td>3</td>\n",
       "    </tr>\n",
       "    <tr>\n",
       "      <th>1</th>\n",
       "      <td>4</td>\n",
       "      <td>5</td>\n",
       "      <td>6</td>\n",
       "      <td>7</td>\n",
       "    </tr>\n",
       "  </tbody>\n",
       "</table>\n",
       "</div>"
      ],
      "text/plain": [
       "   A  B  C  D\n",
       "0  0  1  2  3\n",
       "1  4  5  6  7"
      ]
     },
     "execution_count": 21,
     "metadata": {},
     "output_type": "execute_result"
    }
   ],
   "source": [
    "## avg1 == avg2\n",
    "## @符号标记本地变量\n",
    "c_avg = df['C'].mean()\n",
    "avg1= df[(df.A < c_avg) & (df.B < c_avg)]\n",
    "avg2= df.query('A < @c_avg and B < @c_avg')\n"
   ]
  },
  {
   "cell_type": "code",
   "execution_count": 38,
   "metadata": {},
   "outputs": [
    {
     "data": {
      "text/html": [
       "<div>\n",
       "<style scoped>\n",
       "    .dataframe tbody tr th:only-of-type {\n",
       "        vertical-align: middle;\n",
       "    }\n",
       "\n",
       "    .dataframe tbody tr th {\n",
       "        vertical-align: top;\n",
       "    }\n",
       "\n",
       "    .dataframe thead th {\n",
       "        text-align: right;\n",
       "    }\n",
       "</style>\n",
       "<table border=\"1\" class=\"dataframe\">\n",
       "  <thead>\n",
       "    <tr style=\"text-align: right;\">\n",
       "      <th></th>\n",
       "      <th>A</th>\n",
       "      <th>B</th>\n",
       "      <th>C</th>\n",
       "      <th>D</th>\n",
       "    </tr>\n",
       "  </thead>\n",
       "  <tbody>\n",
       "    <tr>\n",
       "      <th>2</th>\n",
       "      <td>8</td>\n",
       "      <td>9</td>\n",
       "      <td>10</td>\n",
       "      <td>11</td>\n",
       "    </tr>\n",
       "  </tbody>\n",
       "</table>\n",
       "</div>"
      ],
      "text/plain": [
       "   A  B   C   D\n",
       "2  8  9  10  11"
      ]
     },
     "execution_count": 38,
     "metadata": {},
     "output_type": "execute_result"
    }
   ],
   "source": [
    "# 列名\n",
    "df.query('(A < B) & (B < C)')\n",
    "# index/ ilevel_0索引 & 列名\n",
    "df.query('index<B and B<C')\n",
    "df.query('index > 1')\n",
    "df.query('ilevel_0>1')"
   ]
  },
  {
   "cell_type": "code",
   "execution_count": 55,
   "metadata": {},
   "outputs": [
    {
     "name": "stdout",
     "output_type": "stream",
     "text": [
      "             0   1\n",
      "color food        \n",
      "red   meat   0   1\n",
      "blue  meat   2   3\n",
      "red   eggs   4   5\n",
      "blue  eggs   6   7\n",
      "      eggs   8   9\n",
      "red   meat  10  11\n",
      "rd: \n",
      "            0   1\n",
      "red meat   0   1\n",
      "    eggs   4   5\n",
      "    meat  10  11\n",
      "mt: \n",
      "             0   1\n",
      "red  meat   0   1\n",
      "blue meat   2   3\n",
      "red  meat  10  11\n"
     ]
    }
   ],
   "source": [
    "## 多索引 multiIndex\n",
    "colors = np.random.choice(['red','blue'], size=6)\n",
    "foods = np.random.choice(['eggs','meat'], size=6)\n",
    "Index = pd.MultiIndex.from_arrays([colors,foods], names=['color','food'])\n",
    "df = pd.DataFrame(np.arange(12).reshape(6,2),index=Index)\n",
    "print(df)\n",
    "# 索引名\n",
    "#df.query('color == \"red\"')\n",
    "df.index.names = [None,None]\n",
    "# ilevel_0 第0级的索引级别\n",
    "rd = df.query('ilevel_0 == \"red\"')\n",
    "print('rd:', '\\n', rd)\n",
    "# ilevel_1 第1级的索引级别\n",
    "mt = df.query('ilevel_1 == \"meat\"')\n",
    "print('mt:', '\\n', mt)"
   ]
  },
  {
   "cell_type": "code",
   "execution_count": 61,
   "metadata": {},
   "outputs": [
    {
     "name": "stdout",
     "output_type": "stream",
     "text": [
      "    A   B   C\n",
      "0  10  11  12\n",
      "1  13  14  15\n",
      "2  16  17  18\n",
      "3  19  20  21 \n",
      "     A   B   C\n",
      "0  20  21  22\n",
      "1  23  24  25\n",
      "2  26  27  28\n",
      "3  29  30  31\n"
     ]
    },
    {
     "data": {
      "text/plain": [
       "[    A   B   C\n",
       " 3  19  20  21,\n",
       "     A   B   C\n",
       " 0  20  21  22]"
      ]
     },
     "execution_count": 61,
     "metadata": {},
     "output_type": "execute_result"
    }
   ],
   "source": [
    "## 多数据df - 具有相同列名（或索引级别、名称)\n",
    "df1 = pd.DataFrame(np.arange(12).reshape(4,3), columns=list('ABC')) +10\n",
    "df2 = df1 + 10\n",
    "print(df1,'\\n', df2)\n",
    "expr = '19<=A<=C<=22'\n",
    "result = list(map(lambda frame: frame.query(expr),[df1,df2]))\n",
    "result"
   ]
  },
  {
   "cell_type": "code",
   "execution_count": 65,
   "metadata": {},
   "outputs": [
    {
     "data": {
      "text/html": [
       "<div>\n",
       "<style scoped>\n",
       "    .dataframe tbody tr th:only-of-type {\n",
       "        vertical-align: middle;\n",
       "    }\n",
       "\n",
       "    .dataframe tbody tr th {\n",
       "        vertical-align: top;\n",
       "    }\n",
       "\n",
       "    .dataframe thead th {\n",
       "        text-align: right;\n",
       "    }\n",
       "</style>\n",
       "<table border=\"1\" class=\"dataframe\">\n",
       "  <thead>\n",
       "    <tr style=\"text-align: right;\">\n",
       "      <th></th>\n",
       "      <th>A</th>\n",
       "      <th>B</th>\n",
       "      <th>C</th>\n",
       "    </tr>\n",
       "  </thead>\n",
       "  <tbody>\n",
       "    <tr>\n",
       "      <th>0</th>\n",
       "      <td>0</td>\n",
       "      <td>8</td>\n",
       "      <td>7</td>\n",
       "    </tr>\n",
       "    <tr>\n",
       "      <th>1</th>\n",
       "      <td>6</td>\n",
       "      <td>7</td>\n",
       "      <td>3</td>\n",
       "    </tr>\n",
       "    <tr>\n",
       "      <th>2</th>\n",
       "      <td>0</td>\n",
       "      <td>1</td>\n",
       "      <td>4</td>\n",
       "    </tr>\n",
       "    <tr>\n",
       "      <th>3</th>\n",
       "      <td>3</td>\n",
       "      <td>1</td>\n",
       "      <td>9</td>\n",
       "    </tr>\n",
       "    <tr>\n",
       "      <th>4</th>\n",
       "      <td>6</td>\n",
       "      <td>9</td>\n",
       "      <td>3</td>\n",
       "    </tr>\n",
       "    <tr>\n",
       "      <th>5</th>\n",
       "      <td>9</td>\n",
       "      <td>1</td>\n",
       "      <td>0</td>\n",
       "    </tr>\n",
       "    <tr>\n",
       "      <th>6</th>\n",
       "      <td>3</td>\n",
       "      <td>8</td>\n",
       "      <td>5</td>\n",
       "    </tr>\n",
       "    <tr>\n",
       "      <th>7</th>\n",
       "      <td>3</td>\n",
       "      <td>0</td>\n",
       "      <td>0</td>\n",
       "    </tr>\n",
       "    <tr>\n",
       "      <th>8</th>\n",
       "      <td>4</td>\n",
       "      <td>5</td>\n",
       "      <td>2</td>\n",
       "    </tr>\n",
       "    <tr>\n",
       "      <th>9</th>\n",
       "      <td>4</td>\n",
       "      <td>9</td>\n",
       "      <td>6</td>\n",
       "    </tr>\n",
       "  </tbody>\n",
       "</table>\n",
       "</div>"
      ],
      "text/plain": [
       "   A  B  C\n",
       "0  0  8  7\n",
       "1  6  7  3\n",
       "2  0  1  4\n",
       "3  3  1  9\n",
       "4  6  9  3\n",
       "5  9  1  0\n",
       "6  3  8  5\n",
       "7  3  0  0\n",
       "8  4  5  2\n",
       "9  4  9  6"
      ]
     },
     "execution_count": 65,
     "metadata": {},
     "output_type": "execute_result"
    }
   ],
   "source": [
    "## r1 == r2 == r3 == r4 == r5\n",
    "## 语法类似numpy\n",
    "df = pd.DataFrame(np.random.randint(10,size=(10,3)),columns = list('ABC'))\n",
    "\n",
    "r1 = df.query('(A<B) & (B<C)')\n",
    "r2 = df[(df.A<df.B) & (df.B<df.C)]\n",
    "r3 = df.query('A<B & B<C')\n",
    "r4 = df.query('A<B and B<C')\n",
    "r5 = df.qeury('A<B<C')"
   ]
  },
  {
   "cell_type": "code",
   "execution_count": 73,
   "metadata": {},
   "outputs": [
    {
     "name": "stdout",
     "output_type": "stream",
     "text": [
      "   A  B  C\n",
      "0  0  8  7\n",
      "1  6  7  3\n",
      "4  6  9  3\n",
      "6  3  8  5\n",
      "9  4  9  6 \n",
      "    A  B  C\n",
      "0  0  8  7\n",
      "1  6  7  3\n",
      "4  6  9  3\n",
      "6  3  8  5\n",
      "9  4  9  6\n"
     ]
    },
    {
     "data": {
      "text/html": [
       "<div>\n",
       "<style scoped>\n",
       "    .dataframe tbody tr th:only-of-type {\n",
       "        vertical-align: middle;\n",
       "    }\n",
       "\n",
       "    .dataframe tbody tr th {\n",
       "        vertical-align: top;\n",
       "    }\n",
       "\n",
       "    .dataframe thead th {\n",
       "        text-align: right;\n",
       "    }\n",
       "</style>\n",
       "<table border=\"1\" class=\"dataframe\">\n",
       "  <thead>\n",
       "    <tr style=\"text-align: right;\">\n",
       "      <th></th>\n",
       "      <th>A</th>\n",
       "      <th>B</th>\n",
       "      <th>C</th>\n",
       "    </tr>\n",
       "  </thead>\n",
       "  <tbody>\n",
       "    <tr>\n",
       "      <th>0</th>\n",
       "      <td>0</td>\n",
       "      <td>8</td>\n",
       "      <td>7</td>\n",
       "    </tr>\n",
       "    <tr>\n",
       "      <th>1</th>\n",
       "      <td>6</td>\n",
       "      <td>7</td>\n",
       "      <td>3</td>\n",
       "    </tr>\n",
       "    <tr>\n",
       "      <th>2</th>\n",
       "      <td>0</td>\n",
       "      <td>1</td>\n",
       "      <td>4</td>\n",
       "    </tr>\n",
       "    <tr>\n",
       "      <th>3</th>\n",
       "      <td>3</td>\n",
       "      <td>1</td>\n",
       "      <td>9</td>\n",
       "    </tr>\n",
       "    <tr>\n",
       "      <th>4</th>\n",
       "      <td>6</td>\n",
       "      <td>9</td>\n",
       "      <td>3</td>\n",
       "    </tr>\n",
       "    <tr>\n",
       "      <th>5</th>\n",
       "      <td>9</td>\n",
       "      <td>1</td>\n",
       "      <td>0</td>\n",
       "    </tr>\n",
       "    <tr>\n",
       "      <th>6</th>\n",
       "      <td>3</td>\n",
       "      <td>8</td>\n",
       "      <td>5</td>\n",
       "    </tr>\n",
       "    <tr>\n",
       "      <th>7</th>\n",
       "      <td>3</td>\n",
       "      <td>0</td>\n",
       "      <td>0</td>\n",
       "    </tr>\n",
       "    <tr>\n",
       "      <th>9</th>\n",
       "      <td>4</td>\n",
       "      <td>9</td>\n",
       "      <td>6</td>\n",
       "    </tr>\n",
       "  </tbody>\n",
       "</table>\n",
       "</div>"
      ],
      "text/plain": [
       "   A  B  C\n",
       "0  0  8  7\n",
       "1  6  7  3\n",
       "2  0  1  4\n",
       "3  3  1  9\n",
       "4  6  9  3\n",
       "5  9  1  0\n",
       "6  3  8  5\n",
       "7  3  0  0\n",
       "9  4  9  6"
      ]
     },
     "execution_count": 73,
     "metadata": {},
     "output_type": "execute_result"
    }
   ],
   "source": [
    "## s1 == s2\n",
    "## '==' 等价于 .isin()\n",
    "s1 = df.query('B == [8,7,9]')\n",
    "s2 = df[df.B.isin([8,7,9])]\n",
    "print(s1,'\\n', s2)\n",
    "\n",
    "## '=='/'!=' vs. 'in'/'not in'\n",
    "df.query('C == [1,2]')\n",
    "df.query('[1,2] in C')\n",
    "df[df.C.isin([1,2])]\n",
    "\n",
    "df.query('C != [1,2]')\n",
    "df.query('[1,2] not in C')"
   ]
  },
  {
   "cell_type": "code",
   "execution_count": 86,
   "metadata": {},
   "outputs": [
    {
     "name": "stdout",
     "output_type": "stream",
     "text": [
      "   a  b  c  d\n",
      "0  a  f  5  5\n",
      "1  b  e  5  5\n",
      "2  c  d  5  5\n",
      "3  d  f  5  5\n",
      "4  e  e  5  5\n",
      "5  f  d  5  5\n",
      "r1: \n",
      "    a  b  c  d\n",
      "3  d  f  5  5\n",
      "4  e  e  5  5\n",
      "5  f  d  5  5 \n",
      " r2: \n",
      "    a  b  c  d\n",
      "0  a  f  5  5\n",
      "1  b  e  5  5\n",
      "2  c  d  5  5 \n",
      " r3: \n",
      "    a  b  c  d\n",
      "0  a  f  5  5\n",
      "1  b  e  5  5\n",
      "2  c  d  5  5\n"
     ]
    }
   ],
   "source": [
    "## in 与 not in\n",
    "df = pd.DataFrame({'a': list('abcdef'), 'b': list('fedfed'), 'c':5, 'd':5})\n",
    "print(df)\n",
    "\n",
    "## s1 == s2\n",
    "s1 = df.query('a in b and c == d')\n",
    "s2 = df[df.a.isin(df.b) & (df.c == df.d)]\n",
    "\n",
    "r1 = df[df.a.isin(df.b)]\n",
    "r2 = df.query('a not in b')\n",
    "r3 = df[~df.a.isin(df.b)]\n",
    "print('r1:','\\n',r1,'\\n','r2:','\\n',r2,'\\n','r3:','\\n',r3)"
   ]
  },
  {
   "cell_type": "code",
   "execution_count": 100,
   "metadata": {},
   "outputs": [
    {
     "name": "stdout",
     "output_type": "stream",
     "text": [
      "   A  B  C\n",
      "0  0  1  2\n",
      "1  3  4  5\n",
      "2  6  7  8\n",
      "   A  B  C   Bool\n",
      "0  0  1  2  False\n",
      "1  3  4  5   True\n",
      "2  6  7  8   True\n",
      "r1: \n",
      "    A  B  C   Bool\n",
      "0  0  1  2  False \n",
      " r2: \n",
      "       A     B     C  Bool\n",
      "0  True  True  True  True\n"
     ]
    }
   ],
   "source": [
    "# 布尔运算符\n",
    "df = pd.DataFrame(np.arange(9).reshape(3,3), columns = list('ABC'))\n",
    "print(df)\n",
    "\n",
    "df['Bool'] = df.eval('C>=5')\n",
    "print(df)\n",
    "\n",
    "r1 = df.query('not Bool')\n",
    "r2 = (df.query('not Bool') == df[~df.Bool])\n",
    "print('r1:', '\\n', r1, '\\n','r2:', '\\n', r2)"
   ]
  },
  {
   "cell_type": "code",
   "execution_count": null,
   "metadata": {},
   "outputs": [],
   "source": []
  }
 ],
 "metadata": {
  "interpreter": {
   "hash": "61be24dbbea7ed22de6e1b71cd9cab11b4963c653f327ca2731da81af80b8c6c"
  },
  "kernelspec": {
   "display_name": "Python 3.8.5 64-bit ('base': conda)",
   "language": "python",
   "name": "python3"
  },
  "language_info": {
   "codemirror_mode": {
    "name": "ipython",
    "version": 3
   },
   "file_extension": ".py",
   "mimetype": "text/x-python",
   "name": "python",
   "nbconvert_exporter": "python",
   "pygments_lexer": "ipython3",
   "version": "3.8.5"
  },
  "orig_nbformat": 4
 },
 "nbformat": 4,
 "nbformat_minor": 2
}
